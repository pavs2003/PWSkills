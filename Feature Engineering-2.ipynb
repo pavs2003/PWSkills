{
 "cells": [
  {
   "cell_type": "code",
   "execution_count": null,
   "id": "04cb8142-329d-43e5-a671-bdfd1c42492d",
   "metadata": {},
   "outputs": [],
   "source": [
    "#1.\n",
    "#The filter method is a type of feature selection technique that uses statistical tests to evaluate the relevance of each feature independently of the machine learning algorithm being used. \n",
    "#The filter method works by ranking each feature based on a certain criteria or score, and then selecting the top-ranked features as the final set of features for training the model.\n",
    "#The filter method typically involves the following steps:\n",
    "#Compute a relevance score for each feature\n",
    "#Rank the features based on their relevance score\n",
    "#Select the top-ranked features"
   ]
  },
  {
   "cell_type": "code",
   "execution_count": null,
   "id": "11987e3e-0f4f-492c-957e-1e9ec9414bae",
   "metadata": {},
   "outputs": [],
   "source": [
    "#2.\n",
    "#The wrapper method is another technique for feature selection that differs from the filter method in several ways.\n",
    "#Unlike the filter method, which evaluates each feature independently of the machine learning algorithm being used, the wrapper method selects features by evaluating subsets of features in combination with the learning algorithm.\n",
    "\n",
    "#The wrapper method works by following these steps:\n",
    "#Generate all possible subsets of features\n",
    "#Train a model on each subset of features\n",
    "#Select the subset with the best performance"
   ]
  },
  {
   "cell_type": "code",
   "execution_count": null,
   "id": "4926f285-865b-435d-b5e3-af805311d300",
   "metadata": {},
   "outputs": [],
   "source": [
    "#3.\n",
    "#Embedded feature selection methods are techniques that perform feature selection during the model training process. \n",
    "#Some common techniques used in embedded feature selection methods are: Lasso Regression, Ridge Regression, Elastic Net, Decision Trees, Random Forests, Gradient Boosting"
   ]
  },
  {
   "cell_type": "code",
   "execution_count": null,
   "id": "daf9617f-dcba-431d-b239-b48d0a90eda6",
   "metadata": {},
   "outputs": [],
   "source": [
    "#4.\n",
    "#The filter method is a feature selection technique that involves ranking features based on their individual correlation or statistical relevance to the target variable.\n",
    "#While it is a popular and easy-to-implement method, it has some drawbacks, including:\n",
    "#Ignores Feature Interactions\n",
    "#Assumes Linear Relationships\n",
    "#Sensitivity to Scaling\n",
    "#Does Not Consider Model Performance\n",
    "#May Not Handle Categorical Variables Well"
   ]
  },
  {
   "cell_type": "code",
   "execution_count": null,
   "id": "d476503e-d775-4b97-9434-7a9345d33698",
   "metadata": {},
   "outputs": [],
   "source": [
    "#5.\n",
    "#Both the filter and wrapper methods are common techniques for feature selection, but they have different strengths and weaknesses. \n",
    "#In general, you might prefer to use the filter method over the wrapper method in the following situations: Large Datasets, High-Dimensional Data, Simple Models, Multicollinearity, Data Preprocessing"
   ]
  },
  {
   "cell_type": "code",
   "execution_count": null,
   "id": "47ed58c1-d738-4212-8e87-14f2dcc90a8f",
   "metadata": {},
   "outputs": [],
   "source": [
    "#6.\n",
    "#In a telecom company, customer churn is a critical business problem, and developing a predictive model for customer churn can be a valuable tool for retaining customers. \n",
    "#Here are the steps that you can follow to select the most pertinent attributes using the filter method:\n",
    "#Define the Target Variable\n",
    "#Identify Potential Features\n",
    "#Check for Data Quality\n",
    "#Apply Filter Method\n",
    "#Select the Top Features\n",
    "#Validate the Model"
   ]
  },
  {
   "cell_type": "code",
   "execution_count": 1,
   "id": "0ea4352b-5218-4cf6-8710-40433b08dcea",
   "metadata": {},
   "outputs": [],
   "source": [
    "#7.\n",
    "#When working on a project to predict the outcome of a soccer match, selecting the most relevant features can be critical for building an accurate model.\n",
    "#Here are the steps you can follow to use the Embedded method for feature selection:\n",
    "#Choose a Suitable Algorithm\n",
    "#Preprocess the Data\n",
    "#Train the Model\n",
    "#Evaluate the Model\n",
    "#Interpret the Results"
   ]
  },
  {
   "cell_type": "code",
   "execution_count": null,
   "id": "24d9f7df-6576-45a1-b285-816bff2e6500",
   "metadata": {},
   "outputs": [],
   "source": [
    "#8.\n",
    "#The Wrapper method is a feature selection technique that involves evaluating different subsets of features by training and testing the model on each subset. \n",
    "#Here's how you can use the Wrapper method to select the best set of features for predicting the price of a house:\n",
    "#Define the Set of Features\n",
    "#Generate Candidate Feature Subsets\n",
    "#Train and Test the Model\n",
    "#Evaluate the Performance\n",
    "#Select the Best Feature Subset"
   ]
  }
 ],
 "metadata": {
  "kernelspec": {
   "display_name": "Python 3 (ipykernel)",
   "language": "python",
   "name": "python3"
  },
  "language_info": {
   "codemirror_mode": {
    "name": "ipython",
    "version": 3
   },
   "file_extension": ".py",
   "mimetype": "text/x-python",
   "name": "python",
   "nbconvert_exporter": "python",
   "pygments_lexer": "ipython3",
   "version": "3.9.7"
  }
 },
 "nbformat": 4,
 "nbformat_minor": 5
}
