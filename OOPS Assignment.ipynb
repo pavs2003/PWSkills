{
 "cells": [
  {
   "cell_type": "markdown",
   "id": "b3c48987",
   "metadata": {},
   "source": [
    "# OOPS ASSIGNMENT"
   ]
  },
  {
   "cell_type": "code",
   "execution_count": 9,
   "id": "26c4152f",
   "metadata": {},
   "outputs": [],
   "source": [
    "# 1]\n",
    "#A class is a user defined layout or blueprint of an object that describes what specific kind of object will look like. It helps to bind data and methods together making the code reusable\n",
    "#example is: college has attibute name such as reputition name, department, environment to stay and functions like classrooms and canteens.\n",
    "#An object is a single instance of class which contains data and methods working on that data. It contains name,member data,member methods.\n",
    "#example is: Samsung galaxy is an object with brand name Samsung, 2GB RAM as properties and calling and texting as behaviours."
   ]
  },
  {
   "cell_type": "code",
   "execution_count": 10,
   "id": "560f70a7",
   "metadata": {},
   "outputs": [],
   "source": [
    "# 2]\n",
    "# The four pillars are Inheritance, Polymorphism, Encapsulation and Abstraction."
   ]
  },
  {
   "cell_type": "code",
   "execution_count": 11,
   "id": "2dec52ad",
   "metadata": {},
   "outputs": [],
   "source": [
    "# 3] The __init__ method lets the class initialize the object’s attributes and serves no other purpose. It is only used within classes.\n",
    "class Dog:                \n",
    " \n",
    " def __init__(self, dogBreed,dogEyeColor): \n",
    "    self.breed = dogBreed   \n",
    "    self.eyeColor = dogEyeColor\n",
    "    tomita = Dog(\"Fox Terrier\",\"brown\")\n",
    "    print(\"This dog is a\",tomita.breed,\"and his eyes are\",tomita.eyeColor)"
   ]
  },
  {
   "cell_type": "code",
   "execution_count": 12,
   "id": "4ded5228",
   "metadata": {},
   "outputs": [],
   "source": [
    "# 4] The self variable is used to represent the instance of the class which is often used in object-oriented programming. It works as a reference to the object. Python uses the self parameter to refer to instance attributes and methods of the class.\n"
   ]
  },
  {
   "cell_type": "code",
   "execution_count": 14,
   "id": "650ac02f",
   "metadata": {},
   "outputs": [],
   "source": [
    "# 5] Inheritance is an Object Oriented Programming (OOP) feature that allows the properties of an object to be used by different objects.\n",
    "#In inheritance, the child class acquires the properties and can access all the data members and functions defined in the parent class. A child class can also provide its specific implementation to the functions of the parent class. In this section of the tutorial, we will discuss inheritance in detail.\n",
    "\n",
    "#Syntax:\n",
    "    #class derived-class(base class):  \n",
    "    #<class-suite>"
   ]
  },
  {
   "cell_type": "code",
   "execution_count": 15,
   "id": "863fffcc",
   "metadata": {},
   "outputs": [
    {
     "name": "stdout",
     "output_type": "stream",
     "text": [
      "Chitti is BlackSheep\n",
      "Robot Speaking...\n",
      "Founder of The Chitti Robot\n"
     ]
    }
   ],
   "source": [
    "#Multi level inheritance\n",
    "class Robot:  \n",
    "    def speak(self):  \n",
    "        print(\"Robot Speaking...\")  \n",
    "class Chitti(Robot):  \n",
    "    def nickname(self):  \n",
    "        print(\"Chitti is BlackSheep\")  \n",
    "class Vaseegran(Chitti):  \n",
    "    def inventor(self):  \n",
    "        print(\"Founder of The Chitti Robot\")  \n",
    "v = Vaseegran()  \n",
    "v.nickname()  \n",
    "v.speak()  \n",
    "v.inventor()"
   ]
  },
  {
   "cell_type": "code",
   "execution_count": 16,
   "id": "5e8be8b1",
   "metadata": {},
   "outputs": [
    {
     "name": "stdout",
     "output_type": "stream",
     "text": [
      "30\n",
      "200\n",
      "0.5\n"
     ]
    }
   ],
   "source": [
    "#Multiple inheritance\n",
    "class Calculation1:  \n",
    "    def Summation(self,a,b):  \n",
    "        return a+b;  \n",
    "class Calculation2:  \n",
    "    def Multiplication(self,a,b):  \n",
    "        return a*b;  \n",
    "class Derived(Calculation1,Calculation2):  \n",
    "    def Divide(self,a,b):  \n",
    "        return a/b;  \n",
    "d = Derived()  \n",
    "print(d.Summation(10,20))  \n",
    "print(d.Multiplication(10,20))  \n",
    "print(d.Divide(10,20)) "
   ]
  },
  {
   "cell_type": "code",
   "execution_count": 17,
   "id": "5cde3b5b",
   "metadata": {},
   "outputs": [
    {
     "name": "stdout",
     "output_type": "stream",
     "text": [
      "Cheep Cheep...\n"
     ]
    }
   ],
   "source": [
    "#Method Overriding\n",
    "class Animal:  \n",
    "    def speak(self):  \n",
    "        print(\"Singing\")  \n",
    "class Bird(Animal):  \n",
    "    def sings(self):  \n",
    "        print(\"Cheep Cheep...\")  \n",
    "d = Bird()  \n",
    "d.sings()"
   ]
  }
 ],
 "metadata": {
  "kernelspec": {
   "display_name": "Python 3 (ipykernel)",
   "language": "python",
   "name": "python3"
  },
  "language_info": {
   "codemirror_mode": {
    "name": "ipython",
    "version": 3
   },
   "file_extension": ".py",
   "mimetype": "text/x-python",
   "name": "python",
   "nbconvert_exporter": "python",
   "pygments_lexer": "ipython3",
   "version": "3.9.7"
  }
 },
 "nbformat": 4,
 "nbformat_minor": 5
}
