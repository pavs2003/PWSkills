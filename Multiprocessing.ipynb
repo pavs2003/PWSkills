{
 "cells": [
  {
   "cell_type": "markdown",
   "id": "04fb6522",
   "metadata": {},
   "source": [
    "#q1]\n",
    "Multiprocessing refers to the ability of a system to support more than one processor at the same time. Applications in a multiprocessing system are broken to smaller routines that run independently. The operating system allocates these threads to the processors improving performance of the system.\n",
    "it is useful because it is IO-bound processes, such as reading files from a network or database since each thread can run the IO-bound process concurrently. Multiprocessing is useful for CPU-bound processes, such as computationally heavy tasks since it will benefit from having multiple processors; similar to how multicore computers work faster than computers with a single core."
   ]
  },
  {
   "cell_type": "markdown",
   "id": "a1856584",
   "metadata": {},
   "source": [
    "#q2]\n",
    "Multiprocessing uses two or more CPUs to increase computing power, whereas multithreading uses a single process with multiple code segments to increase computing power. Multithreading focuses on generating computing threads from a single process, whereas multiprocessing increases computing power by adding CPUs"
   ]
  },
  {
   "cell_type": "code",
   "execution_count": 3,
   "id": "a737ca95",
   "metadata": {},
   "outputs": [],
   "source": [
    "#q3]\n",
    "from multiprocessing import Process\n",
    "def print_func(continent='Asia'):\n",
    "    print('The name of continent is : ', continent)\n",
    "if __name__ == \"__main__\":\n",
    "    names = ['America', 'Europe', 'Africa']\n",
    "    procs = []\n",
    "    proc = Process(target=print_func)\n",
    "    procs.append(proc)\n",
    "    proc.start()\n",
    "    for name in names:\n",
    "        proc = Process(target=print_func, args=(name,))\n",
    "        procs.append(proc)\n",
    "        proc.start()\n",
    "    for proc in procs:\n",
    "        proc.join()"
   ]
  },
  {
   "cell_type": "markdown",
   "id": "b6cd1c99",
   "metadata": {},
   "source": [
    "#q4]Python multiprocessing Pool can be used for parallel execution of a function across multiple input values, distributing the input data across processes.\n",
    "#The Python Multiprocessing Module is a tool for you to increase your scripts’ efficiency by allocating tasks to different processes.Multiprocessing can make a program substantially more efficient by running multiple tasks in parallel instead of sequentially.\n"
   ]
  },
  {
   "cell_type": "raw",
   "id": "1326894d",
   "metadata": {},
   "source": [
    "#q5]We can issue one-off tasks to the process pool using functions such as apply() or we can apply the same function to an iterable of items using functions such as map(). Results for issued tasks can then be retrieved synchronously, or we can retrieve the result of tasks later by using asynchronous versions of the functions such as apply_async() and map_async().\n",
    "#We can set the “processes” argument to specify the number of child processes to create and use as workers in the process pool.\n",
    "#For example:\n",
    "# create a process pool with 4 workers\n",
    "#pool = multiprocessing.pool.Pool(processes=4)\n",
    "#The “processes” argument is the first argument in the constructor and does not need to be specified by name to be set, for example:\n",
    "# create a process pool with 4 workers\n",
    "#pool = multiprocessing.pool.Pool(4)\n",
    "#If we are using the context manager to create the process pool so that it is automatically shutdown, then you can configure the number of processes in the same manner.\n",
    "#For example:\n",
    "# create a process pool with 4 workers\n",
    "#with multiprocessing.pool.Pool(4):\n",
    "#The number of workers must be less than or equal to 61 if Windows is your operating system."
   ]
  },
  {
   "cell_type": "code",
   "execution_count": null,
   "id": "973fdf01",
   "metadata": {},
   "outputs": [],
   "source": [
    "#q6]4 processes using multiprocessing module in python\n",
    "#1:\n",
    "from multiprocessing import Process\n",
    "   def cube(x):\n",
    "    for x in my_numbers:\n",
    "         print('%s cube is %s' % (x, x**3))\n",
    "    if __name__ == '__main__':\n",
    "         my_numbers = [3, 4, 5, 6, 7, 8]\n",
    "         p = Process(target=cube, args=('x',))\n",
    "         p.start()\n",
    "p.join\n",
    "print (\"Done\")\n",
    "#2:\n",
    "from multiprocessing import Process\n",
    "def cube(x):\n",
    "for x in my_numbers:\n",
    "print('%s cube is %s' % (x, x**3))\n",
    "def evenno(x):\n",
    "for x in my_numbers:\n",
    "if x % 2 == 0:\n",
    "print('%s is an even number ' % (x))\n",
    "   if __name__ == '__main__':\n",
    "    my_numbers = [3, 4, 5, 6, 7, 8]\n",
    "      my_process1 = Process(target=cube, args=('x',))\n",
    "    my_process2 = Process(target=evenno, args=('x',))\n",
    "      my_process1.start()\n",
    "    my_process2.start()\n",
    "      my_process1.join()\n",
    "    my_process2.join()\n",
    "print (\"Done\")\n",
    "#3:\n",
    "from multiprocessing import Process, Pipe\n",
    "   def myfunction(conn):\n",
    "    conn.send(['hi!! I am Python'])\n",
    "      conn.close()\n",
    "    if __name__ == '__main__':\n",
    "         parent_conn, child_conn = Pipe()\n",
    "        p = Process(target=myfunction, args=(child_conn,))\n",
    "         p.start()\n",
    "    print (parent_conn.recv() )\n",
    "p.join()\n",
    "#4:\n",
    "import multiprocessing\n",
    "   def evenno(numbers, q):\n",
    "    for n in numbers:\n",
    "    if n % 2 == 0:\n",
    "    q.put(n)\n",
    "      if __name__ == \"__main__\":\n",
    "        q = multiprocessing.Queue()\n",
    "        p = multiprocessing.Process(target=evenno, args=(range(10), q))\n",
    "        p.start()\n",
    "        p.join()\n",
    "    while q:\n",
    "print(q.get())"
   ]
  }
 ],
 "metadata": {
  "kernelspec": {
   "display_name": "Python 3 (ipykernel)",
   "language": "python",
   "name": "python3"
  },
  "language_info": {
   "codemirror_mode": {
    "name": "ipython",
    "version": 3
   },
   "file_extension": ".py",
   "mimetype": "text/x-python",
   "name": "python",
   "nbconvert_exporter": "python",
   "pygments_lexer": "ipython3",
   "version": "3.9.7"
  }
 },
 "nbformat": 4,
 "nbformat_minor": 5
}
