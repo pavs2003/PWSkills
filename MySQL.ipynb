{
 "cells": [
  {
   "cell_type": "raw",
   "id": "5eebd036",
   "metadata": {},
   "source": [
    "#q1]It is made up of a collection of tables that stores a specific set of structured data. A table contains a collection of rows, also referred to as records or tuples, and columns, also referred to as attributes\n",
    "#The difference between sql and nosql is:\n",
    "#SQL:Tables fixed with columns and rows\n",
    "#NoSQL:JSON documents, Key-value: key-value pairs, Wide-column: tables with rows and dynamic columns, Graph: nodes and edges.\n",
    "#SQL:The schemas are rigid and scaling is vertical.\n",
    "#NoSQL:The schemas is flexible and horizontal and easy for developers."
   ]
  },
  {
   "cell_type": "raw",
   "id": "7b1a21d0",
   "metadata": {},
   "source": [
    "#q2] It is describes the portion of SQL that creates, alters, and deletes database objects. These database objects include schemas, tables, views, sequences, catalogs, indexes, variables, masks, permissions, and aliases.\n",
    "#CREATE TABLE:The CREATE TABLE command creates a new table in the database.\n",
    "    CREATE TABLE Persons (\n",
    "    PersonID int,\n",
    "    LastName varchar(255),\n",
    "    FirstName varchar(255),\n",
    "    Address varchar(255),\n",
    "    City varchar(255)\n",
    ");\n",
    "#ALTER TABLE:The ALTER TABLE command adds, deletes, or modifies columns in a table.\n",
    "    ALTER TABLE Customers\n",
    "    ADD Email varchar(255);\n",
    "#DROP TABLE:The DROP TABLE command deletes a table in the database.\n",
    "    DROP TABLE Shippers;"
   ]
  },
  {
   "cell_type": "raw",
   "id": "d60ffbce",
   "metadata": {},
   "source": [
    "#q3]It(DML) is the component of the SQL statement that controls access to data and to the database.\n",
    "List of DML commands: \n",
    "\n",
    "#INSERT : It is used to insert data into a table.\n",
    "    INSERT INTO TABLE_NAME ( column_Name1 , column_Name2..)\n",
    "#UPDATE: It is used to update existing data within a table.\n",
    "    UPDATE Table_name SET [column_name1= value_1,…,column_nameN = value_N] WHERE CONDITION;\n",
    "#DELETE : It is used to delete records from a database table.\n",
    "    DELETE FROM Table_Name WHERE condition;"
   ]
  },
  {
   "cell_type": "raw",
   "id": "189ebc50",
   "metadata": {},
   "source": [
    "#q4]DQL is used to fetch the data from the database.\n",
    "#SELECT: This is the same as the projection operation of relational algebra. It is used to select the attribute based on the condition described by WHERE clause.\n",
    "SELECT expressions    \n",
    "FROM TABLES    \n",
    "WHERE conditions;"
   ]
  },
  {
   "cell_type": "raw",
   "id": "ffa8675f",
   "metadata": {},
   "source": [
    "#q5]A Primary key is a unique column we set in a table to easily identify and locate data in queries. A table can have only one primary key.\n",
    "#A foreign key is a field or collection of fields in a table that refers to the Primary key of the other table. It is responsible for managing the relationship between the tables.\n",
    "#The table which contains the foreign key is often called the child table, and the table whose primary key is being referred by the foreign key is called the Parent Table."
   ]
  },
  {
   "cell_type": "raw",
   "id": "6328812d",
   "metadata": {},
   "source": [
    "#q6]\n",
    "import mysql.connector\n",
    "myconn=mysql.connector.connect(host=\"localhost\",user=\"root\",password=\"root\",database=\"mydb\")\n",
    "print(myconn)\n",
    "curs=myconn.cursor()\n",
    "print(cur)"
   ]
  },
  {
   "cell_type": "raw",
   "id": "809ad94d",
   "metadata": {},
   "source": [
    "#example\n",
    "#cursor method and execute method\n",
    "#here we are importing and creating connection\n",
    "import mysql.connector\n",
    "conn = mysql.connector.connect(\n",
    "  host=\"localhost\",\n",
    "  user=\"sammy\",\n",
    "  password=\"password\",\n",
    "  database =\"dbTest\"\n",
    ")\n",
    "# here we are importing the cursor from the connection (conn)\n",
    "mycursor = conn.cursor()\n",
    "mycursor.execute(\"SELECT * FROM MOVIE\")\n",
    "# then iterating over the result\n",
    "for row in mycursor:\n",
    "    print(row)\n",
    "#Finally we are closing both the conn and cursor both after the execution\n",
    "mycursor.close()\n",
    "conn.close()"
   ]
  }
 ],
 "metadata": {
  "kernelspec": {
   "display_name": "Python 3 (ipykernel)",
   "language": "python",
   "name": "python3"
  },
  "language_info": {
   "codemirror_mode": {
    "name": "ipython",
    "version": 3
   },
   "file_extension": ".py",
   "mimetype": "text/x-python",
   "name": "python",
   "nbconvert_exporter": "python",
   "pygments_lexer": "ipython3",
   "version": "3.9.7"
  }
 },
 "nbformat": 4,
 "nbformat_minor": 5
}
