{
 "cells": [
  {
   "cell_type": "markdown",
   "id": "cde19833",
   "metadata": {},
   "source": [
    "# FUNCTIONS ASSIGNMENT"
   ]
  },
  {
   "cell_type": "code",
   "execution_count": 1,
   "id": "08a2cd31",
   "metadata": {},
   "outputs": [
    {
     "name": "stdout",
     "output_type": "stream",
     "text": [
      "1 3 5 7 9 11 13 15 17 19 21 23 25 "
     ]
    }
   ],
   "source": [
    "#1] def keyword is used to create the function\n",
    "start = 1\n",
    "end = 25\n",
    " \n",
    "if start % 2 != 0:\n",
    " \n",
    "    for num in range(start, end + 1, 2):\n",
    "        print(num, end=\" \")\n",
    "else:\n",
    " \n",
    "    for num in range(start+1, end + 1, 2):\n",
    "        print(num, end=\" \")"
   ]
  },
  {
   "cell_type": "code",
   "execution_count": 2,
   "id": "94dcd9e1",
   "metadata": {},
   "outputs": [
    {
     "name": "stdout",
     "output_type": "stream",
     "text": [
      "Hola\n",
      "Welcome\n",
      "to\n",
      "AlienWorld!\n"
     ]
    }
   ],
   "source": [
    "# 2] We use *args and **kwargs as an argument when we are unsure about the number of arguments to pass in the functions.\n",
    "#using args \n",
    "def myFun(*argv):\n",
    "    for arg in argv:\n",
    "        print(arg)\n",
    "myFun('Hola', 'Welcome', 'to', 'AlienWorld!')"
   ]
  },
  {
   "cell_type": "code",
   "execution_count": 8,
   "id": "ba71b7e4",
   "metadata": {},
   "outputs": [
    {
     "name": "stdout",
     "output_type": "stream",
     "text": [
      "Sentence: Kwargs are awesome!\n"
     ]
    }
   ],
   "source": [
    "#using kwargs\n",
    "def makeSentence(**words):\n",
    "    newsentence=''\n",
    "    for word in words.values():\n",
    "        newsentence+=word\n",
    "    return newsentence\n",
    "print('Sentence:', makeSentence(a='Kwargs ',b='are ', c='awesome!'))"
   ]
  },
  {
   "cell_type": "code",
   "execution_count": 9,
   "id": "9520e3f8",
   "metadata": {},
   "outputs": [
    {
     "name": "stdout",
     "output_type": "stream",
     "text": [
      "2\n",
      "4\n",
      "6\n",
      "8\n",
      "10\n"
     ]
    }
   ],
   "source": [
    "# 3] Using an iterator method, we can loop through an object and return its elements and consist of the methods __iter__() and __next__() .\n",
    "# using _iter_ method\n",
    "my_list = [2, 4, 6, 8, 10, 12, 14, 16, 18, 20]\n",
    "\n",
    "# create an iterator from the list\n",
    "iterator = iter(my_list)\n",
    "\n",
    "# get the first element of the iterator\n",
    "print(next(iterator))  \n",
    "\n",
    "# get the second element of the iterator\n",
    "print(next(iterator))  \n",
    "\n",
    "# get the third element of the iterator\n",
    "print(next(iterator)) \n",
    "\n",
    "#gets the fouth element of the iterator\n",
    "print(next(iterator)) \n",
    "\n",
    "#gets the fifth element of the iterator\n",
    "print(next(iterator))"
   ]
  },
  {
   "cell_type": "code",
   "execution_count": 12,
   "id": "250ceee6",
   "metadata": {},
   "outputs": [
    {
     "name": "stdout",
     "output_type": "stream",
     "text": [
      "2\n",
      "4\n",
      "6\n",
      "8\n",
      "10\n"
     ]
    }
   ],
   "source": [
    "#using __next__ method\n",
    "string = [2, 4, 6, 8, 10, 12, 14, 16, 18, 20]\n",
    "ch_iterator = iter(string)\n",
    "print(next(ch_iterator))\n",
    "print(next(ch_iterator))\n",
    "print(next(ch_iterator))\n",
    "print(next(ch_iterator))\n",
    "print(next(ch_iterator))"
   ]
  },
  {
   "cell_type": "code",
   "execution_count": 16,
   "id": "5170d97d",
   "metadata": {},
   "outputs": [
    {
     "name": "stdout",
     "output_type": "stream",
     "text": [
      "1\n",
      "2\n",
      "3\n",
      "4\n"
     ]
    }
   ],
   "source": [
    "#A generator is a function that returns an iterator that produces a sequence of values when iterated over.The yield keyword is used because it will turn any expression that is given with it into a generator object and return it to the caller.\n",
    "def simpleGeneratorFun():\n",
    "    yield 1\n",
    "    yield 2\n",
    "    yield 3\n",
    "    yield 4\n",
    "x = simpleGeneratorFun()\n",
    "print(next(x))\n",
    "print(next(x))\n",
    "print(next(x))\n",
    "print(next(x))"
   ]
  },
  {
   "cell_type": "code",
   "execution_count": 28,
   "id": "996ece75",
   "metadata": {},
   "outputs": [
    {
     "name": "stdout",
     "output_type": "stream",
     "text": [
      "2\n",
      "3\n",
      "5\n",
      "7\n",
      "11\n",
      "13\n",
      "17\n",
      "19\n",
      "23\n",
      "29\n",
      "31\n",
      "37\n",
      "41\n",
      "43\n",
      "47\n",
      "53\n",
      "59\n",
      "61\n",
      "67\n",
      "71\n",
      "73\n",
      "79\n",
      "83\n",
      "89\n",
      "97\n",
      "101\n",
      "103\n",
      "107\n",
      "109\n",
      "113\n",
      "127\n",
      "131\n",
      "137\n",
      "139\n",
      "149\n",
      "151\n",
      "157\n",
      "163\n",
      "167\n",
      "173\n",
      "179\n",
      "181\n",
      "191\n",
      "193\n",
      "197\n",
      "199\n",
      "211\n",
      "223\n",
      "227\n",
      "229\n",
      "233\n",
      "239\n",
      "241\n",
      "251\n",
      "257\n",
      "263\n",
      "269\n",
      "271\n",
      "277\n",
      "281\n",
      "283\n",
      "293\n",
      "307\n",
      "311\n",
      "313\n",
      "317\n",
      "331\n",
      "337\n",
      "347\n",
      "349\n",
      "353\n",
      "359\n",
      "367\n",
      "373\n",
      "379\n",
      "383\n",
      "389\n",
      "397\n",
      "401\n",
      "409\n",
      "419\n",
      "421\n",
      "431\n",
      "433\n",
      "439\n",
      "443\n",
      "449\n",
      "457\n",
      "461\n",
      "463\n",
      "467\n",
      "479\n",
      "487\n",
      "491\n",
      "499\n",
      "503\n",
      "509\n",
      "521\n",
      "523\n",
      "541\n",
      "547\n",
      "557\n",
      "563\n",
      "569\n",
      "571\n",
      "577\n",
      "587\n",
      "593\n",
      "599\n",
      "601\n",
      "607\n",
      "613\n",
      "617\n",
      "619\n",
      "631\n",
      "641\n",
      "643\n",
      "647\n",
      "653\n",
      "659\n",
      "661\n",
      "673\n",
      "677\n",
      "683\n",
      "691\n",
      "701\n",
      "709\n",
      "719\n",
      "727\n",
      "733\n",
      "739\n",
      "743\n",
      "751\n",
      "757\n",
      "761\n",
      "769\n",
      "773\n",
      "787\n",
      "797\n",
      "809\n",
      "811\n",
      "821\n",
      "823\n",
      "827\n",
      "829\n",
      "839\n",
      "853\n",
      "857\n",
      "859\n",
      "863\n",
      "877\n",
      "881\n",
      "883\n",
      "887\n",
      "907\n",
      "911\n",
      "919\n",
      "929\n",
      "937\n",
      "941\n",
      "947\n",
      "953\n",
      "967\n",
      "971\n",
      "977\n",
      "983\n",
      "991\n",
      "997\n"
     ]
    }
   ],
   "source": [
    "import math\n",
    "\n",
    "def isPrime(n):\n",
    "    for i in range(2, int(math.sqrt(n)+1)):\n",
    "        if n % i == 0: \n",
    "            return False;\n",
    "    return n>1;\n",
    "\n",
    "print (2)\n",
    "for n in range(3, 1000):\n",
    "    if isPrime(n):\n",
    "        print (n)"
   ]
  },
  {
   "cell_type": "code",
   "execution_count": null,
   "id": "2d41a419",
   "metadata": {},
   "outputs": [],
   "source": []
  },
  {
   "cell_type": "code",
   "execution_count": null,
   "id": "ed53c674",
   "metadata": {},
   "outputs": [],
   "source": []
  }
 ],
 "metadata": {
  "kernelspec": {
   "display_name": "Python 3 (ipykernel)",
   "language": "python",
   "name": "python3"
  },
  "language_info": {
   "codemirror_mode": {
    "name": "ipython",
    "version": 3
   },
   "file_extension": ".py",
   "mimetype": "text/x-python",
   "name": "python",
   "nbconvert_exporter": "python",
   "pygments_lexer": "ipython3",
   "version": "3.9.7"
  }
 },
 "nbformat": 4,
 "nbformat_minor": 5
}
