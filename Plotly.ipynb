{
 "cells": [
  {
   "cell_type": "code",
   "execution_count": null,
   "id": "50b5ca0c",
   "metadata": {},
   "outputs": [],
   "source": [
    "#1.\n",
    "import seaborn as sns\n",
    "import plotly.express as px\n",
    "\n",
    "# Load the Titanic dataset from Seaborn\n",
    "titanic = sns.load_dataset('titanic')\n",
    "\n",
    "# Create a scatter plot for age and fare using Plotly Express\n",
    "fig = px.scatter(titanic, x='age', y='fare')\n",
    "\n",
    "# Show the plot\n",
    "fig.show()"
   ]
  },
  {
   "cell_type": "code",
   "execution_count": null,
   "id": "8a9ae4eb",
   "metadata": {},
   "outputs": [],
   "source": [
    "#2.\n",
    "import plotly.express as px\n",
    "\n",
    "tips = px.data.tips()\n",
    "\n",
    "# Create a box plot for the total bill amount\n",
    "fig = px.box(tips, x='total_bill')\n",
    "\n",
    "# Show the plot\n",
    "fig.show()"
   ]
  },
  {
   "cell_type": "code",
   "execution_count": null,
   "id": "bb858f86",
   "metadata": {},
   "outputs": [],
   "source": [
    "#3.\n",
    "import plotly.express as px\n",
    "\n",
    "# Load the tips dataset from Plotly\n",
    "tips = px.data.tips()\n",
    "\n",
    "# Create a histogram for total bill amount by sex, with smoker and day as parameters\n",
    "fig = px.histogram(tips, x='sex', y='total_bill', color='day', pattern_shape='smoker')\n",
    "\n",
    "# Show the plot\n",
    "fig.show()"
   ]
  },
  {
   "cell_type": "code",
   "execution_count": null,
   "id": "2b899ea6",
   "metadata": {},
   "outputs": [],
   "source": [
    "#4.\n",
    "import plotly.express as px\n",
    "\n",
    "# Load the iris dataset from Plotly\n",
    "iris = px.data.iris()\n",
    "\n",
    "# Create a scatter matrix plot, with \"species\" column for the color parameter\n",
    "fig = px.scatter_matrix(iris, dimensions=['sepal_length', 'sepal_width', 'petal_length', 'petal_width'], color='species')\n",
    "\n",
    "# Show the plot\n",
    "fig.show()"
   ]
  },
  {
   "cell_type": "code",
   "execution_count": null,
   "id": "20d017f8",
   "metadata": {},
   "outputs": [],
   "source": [
    "#Q5. What is Distplot? Using Plotly express, plot a distplot.\n",
    "#Ans.\n",
    "#distplot is a function in the Seaborn library that can be used to create a histogram with a density curve overlaid on top of it. \n",
    "#The density curve is an estimate of the probability distribution of the data.\n",
    "import plotly.express as px\n",
    "\n",
    "# Load the tips dataset from Plotly\n",
    "tips = px.data.tips()\n",
    "\n",
    "# Create a distplot for the \"total_bill\" column\n",
    "fig = px.histogram(tips, x='total_bill', marginal='rug', nbins=30, opacity=0.7)\n",
    "\n",
    "# Show the plot\n",
    "fig.show()"
   ]
  }
 ],
 "metadata": {
  "kernelspec": {
   "display_name": "Python 3 (ipykernel)",
   "language": "python",
   "name": "python3"
  },
  "language_info": {
   "codemirror_mode": {
    "name": "ipython",
    "version": 3
   },
   "file_extension": ".py",
   "mimetype": "text/x-python",
   "name": "python",
   "nbconvert_exporter": "python",
   "pygments_lexer": "ipython3",
   "version": "3.9.7"
  }
 },
 "nbformat": 4,
 "nbformat_minor": 5
}
