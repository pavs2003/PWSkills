{
 "cells": [
  {
   "cell_type": "markdown",
   "id": "0be46dfe",
   "metadata": {},
   "source": [
    "# OOPS TASK"
   ]
  },
  {
   "cell_type": "code",
   "execution_count": 10,
   "id": "b352c045",
   "metadata": {},
   "outputs": [
    {
     "name": "stdout",
     "output_type": "stream",
     "text": [
      "Car\n",
      "450\n",
      "30\n"
     ]
    }
   ],
   "source": [
    "#1]\n",
    "class vehicle:\n",
    "    def __init__(self, name_of_vehicle, max_speed, average_of_vehicle):\n",
    "        self.name_of_vehicle = name_of_vehicle\n",
    "        self.max_speed = max_speed\n",
    "        self.average_of_vehicle = average_of_vehicle\n",
    "        \n",
    "car = vehicle(\"Car\", 450, 30)\n",
    "print(car.name_of_vehicle) \n",
    "print(car.max_speed)  \n",
    "print(car.average_of_vehicle)  "
   ]
  },
  {
   "cell_type": "code",
   "execution_count": 13,
   "id": "4100e9a1",
   "metadata": {},
   "outputs": [
    {
     "name": "stdout",
     "output_type": "stream",
     "text": [
      "The my car has a seating capacity of 8.\n"
     ]
    }
   ],
   "source": [
    "#2]\n",
    "class Car(Vehicle):\n",
    "    def seating_capacity(self, capacity):\n",
    "        return f\"The {self.name_of_vehicle} has a seating capacity of {capacity}.\"\n",
    "    \n",
    "my_car = Car(\"my car\", 350, 15)\n",
    "print(my_car.seating_capacity(8))"
   ]
  },
  {
   "cell_type": "code",
   "execution_count": 17,
   "id": "31c19f48",
   "metadata": {},
   "outputs": [
    {
     "name": "stdout",
     "output_type": "stream",
     "text": [
      "The engine has started.\n",
      "QAV tank filled with 150000 liters.\n",
      "Aeroplane is flying.\n"
     ]
    }
   ],
   "source": [
    "#3]\n",
    "# Multiple inheritance is a feature of object-oriented programming that allows a class to inherit attributes and behaviors from multiple parent classes.\n",
    "class Engine:\n",
    "    def start(self):\n",
    "        return \"The engine has started.\"\n",
    "\n",
    "class Fuelsystem:\n",
    "    def fill_QAV(self, QAV_amount):\n",
    "        return f\"QAV tank filled with {QAV_amount} liters.\"\n",
    "\n",
    "class Aeroplane(Engine, Fuelsystem):\n",
    "    def drive(self):\n",
    "        return \"Aeroplane is flying.\"\n",
    "\n",
    "my_aero = Aeroplane()\n",
    "print(my_aero.start())  \n",
    "print(my_aero.fill_QAV(150000))  \n",
    "print(my_aero.drive())"
   ]
  },
  {
   "cell_type": "code",
   "execution_count": 21,
   "id": "4a5f1130",
   "metadata": {},
   "outputs": [
    {
     "name": "stdout",
     "output_type": "stream",
     "text": [
      "Lisa\n",
      "Kim Taeyhung\n",
      "25\n",
      "27\n"
     ]
    }
   ],
   "source": [
    "#4] Getters and setters are methods in object-oriented programming that allow you to control access to the attributes of an object. A getter method is used to retrieve the value of an attribute, while a setter method is used to set the value of an attribute.\n",
    "class Person:\n",
    "    def __init__(self, name, age):\n",
    "        self._name = name\n",
    "        self._age = age\n",
    "\n",
    "    @property\n",
    "    def name(self):\n",
    "        return self._name\n",
    "\n",
    "    @name.setter\n",
    "    def name(self, value):\n",
    "        if not isinstance(value, str):\n",
    "            raise TypeError(\"Name must be a string.\")\n",
    "        self._name = value\n",
    "\n",
    "    @property\n",
    "    def age(self):\n",
    "        return self._age\n",
    "\n",
    "    @age.setter\n",
    "    def age(self, value):\n",
    "        if not isinstance(value, int):\n",
    "            raise TypeError(\"Age must be an integer.\")\n",
    "        self._age = value\n",
    "\n",
    "person = Person(\"Lisa\", 25)\n",
    "print(person.name)  \n",
    "person.name = \"Kim Taeyhung\"\n",
    "print(person.name)  \n",
    "print(person.age)  \n",
    "person.age = 27\n",
    "print(person.age)"
   ]
  },
  {
   "cell_type": "code",
   "execution_count": 22,
   "id": "8834bf7b",
   "metadata": {},
   "outputs": [
    {
     "name": "stdout",
     "output_type": "stream",
     "text": [
      "I have 4 sides. I am from Square class\n",
      "I am a 2D object. I am from shape class\n",
      "I have teal color. I am from Square class.\n",
      "Old value of data1 =  abc\n",
      "The value of data1 in Shape class overridden by the Square class =  New value\n"
     ]
    }
   ],
   "source": [
    "#5] When a child class method overrides(or, provides it's own implementation) the parent class method of the same name, parameters and return type, it is known as method overriding. In this case, the child class's method is called the overriding method and the parent class's method is called the overriden method.\n",
    "\n",
    "# Parent class\n",
    "class Shape:\n",
    "    # properties\n",
    "    data1 = \"abc\"\n",
    "    def no_of_sides(self):\n",
    "        print(\"My sides need to be defined. I am from shape class.\")\n",
    "    def two_dimensional(self):\n",
    "        print(\"I am a 2D object. I am from shape class\")\n",
    "\n",
    "#Sub-class\n",
    "class Square(Shape):\n",
    "    data2 = \"xyz\"\n",
    "\n",
    "    def no_of_sides(self):\n",
    "        print(\"I have 4 sides. I am from Square class\")\n",
    "\n",
    "    def color(self):\n",
    "        print(\"I have teal color. I am from Square class.\")\n",
    "\n",
    "\n",
    "# Create an object of Square class\n",
    "sq = Square()\n",
    "# Override the no_of_sides of parent class\n",
    "sq.no_of_sides()\n",
    "# Will inherit this method from the parent class\n",
    "sq.two_dimensional()\n",
    "# It's own method - color\n",
    "sq.color()\n",
    "print(\"Old value of data1 = \", sq.data1)\n",
    "# Override property of the Parent class\n",
    "sq.data1 = \"New value\"\n",
    "print(\"The value of data1 in Shape class overridden by the Square class = \", sq.data1)"
   ]
  },
  {
   "cell_type": "code",
   "execution_count": null,
   "id": "19d995a1",
   "metadata": {},
   "outputs": [],
   "source": []
  }
 ],
 "metadata": {
  "kernelspec": {
   "display_name": "Python 3 (ipykernel)",
   "language": "python",
   "name": "python3"
  },
  "language_info": {
   "codemirror_mode": {
    "name": "ipython",
    "version": 3
   },
   "file_extension": ".py",
   "mimetype": "text/x-python",
   "name": "python",
   "nbconvert_exporter": "python",
   "pygments_lexer": "ipython3",
   "version": "3.9.7"
  }
 },
 "nbformat": 4,
 "nbformat_minor": 5
}
