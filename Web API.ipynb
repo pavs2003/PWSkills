{
 "cells": [
  {
   "cell_type": "raw",
   "id": "f2c6a2b4",
   "metadata": {},
   "source": [
    "#q1]What is an API? Give an example, where an API is used in real life.\n",
    "#An application programming interface (API) is the medium by which different software interact.APIs are used in web applications to connect user-facing front ends with critical back-end functionality and data. APIs are used to deliver material by streaming services such as Spotify and Netflix. APIs are used by automakers such as Tesla to provide software upgrades."
   ]
  },
  {
   "cell_type": "raw",
   "id": "06d9fbde",
   "metadata": {},
   "source": [
    "#q2]Advantages:Increased Visibility and Traffic\n",
    "#Seamless Integration\n",
    "#Increased Efficiency\n",
    "#Easier Maintenance\n",
    "#Disadvantages:Increased Complexity\n",
    "#Limited Functionality\n",
    "#Security and Privacy Risks"
   ]
  },
  {
   "cell_type": "markdown",
   "id": "e6d7bf25",
   "metadata": {},
   "source": [
    "#q3]API stands for Application Programming Interface.A Web API is an application programming interface for the Web.eb API is the enhanced form of the web application to provide services on different devices like laptop, mobile, and others.\n",
    "#Both APIs and web services are technologies that enable the transfer of data between separate software applications. API is an interface that exposes an application's data to outside software, whereas web applications are one type of API with stricter requirements."
   ]
  },
  {
   "cell_type": "raw",
   "id": "168a2bb5",
   "metadata": {},
   "source": [
    "#q4]SOAP stands for Simple Object Access Protocol and REST stands for Representational State Transfer.\n",
    "SOAP is a protocol, it follows a strict standard to allow communication between the client and the server whereas REST is an architectural style that doesn’t follow any strict standard but follows six constraints:\n",
    "1]Uniform Interface, \n",
    "Client-Server, \n",
    "Stateless, \n",
    "Cacheable, \n",
    "Layered System, \n",
    "Code on Demand.\n",
    "SOAP uses only XML for exchanging information in its message format whereas REST is not restricted to XML and its the choice of implementer which Media-Type to use like XML, JSON, Plain-text.Shortcomings: It is Highly complex. In comparison to Rest, SOAP is significantly more complex,No variety of data formats,it is also extremely limited in its support of data formats,API calls are not cached.Uses more bandwidth and resource."
   ]
  },
  {
   "cell_type": "raw",
   "id": "a8062cb0",
   "metadata": {},
   "source": [
    "#q5] SOAP: The XML used to make requests and receive responses in SOAP can become extremely complex. In some programming languages, you need to build those requests manually, which becomes problematic because SOAP is intolerant of errors.\n",
    "#REST:Instead of using XML to make a request, REST is usually relies on a simple URL.It is easier to use for the most part and is more flexible."
   ]
  }
 ],
 "metadata": {
  "kernelspec": {
   "display_name": "Python 3 (ipykernel)",
   "language": "python",
   "name": "python3"
  },
  "language_info": {
   "codemirror_mode": {
    "name": "ipython",
    "version": 3
   },
   "file_extension": ".py",
   "mimetype": "text/x-python",
   "name": "python",
   "nbconvert_exporter": "python",
   "pygments_lexer": "ipython3",
   "version": "3.9.7"
  }
 },
 "nbformat": 4,
 "nbformat_minor": 5
}
