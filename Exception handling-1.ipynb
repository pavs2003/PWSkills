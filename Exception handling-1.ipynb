{
 "cells": [
  {
   "cell_type": "markdown",
   "id": "ce9c58d8",
   "metadata": {},
   "source": [
    "#q1]\n",
    "An exception in Python is an error that occurs during the execution of a program. It may be due to various reasons such as invalid input, division by zero, out of memory, or trying to access an undefined variable. When an exception occurs, the normal flow of the program is disrupted, and the program terminates.\n",
    "\n",
    "The key difference between exceptions and syntax errors is that exceptions occur during the execution of a program, while syntax errors occur before the program is executed. Additionally, exceptions can be handled and resolved programmatically, while syntax errors must be fixed manually by the programmer."
   ]
  },
  {
   "cell_type": "markdown",
   "id": "ed6fdb16",
   "metadata": {},
   "source": [
    "#q2]\n",
    "When an exception is not handled, the program terminates abruptly and generates a traceback, which is a detailed report of the error that occurred. The traceback provides information about the line of code where the error occurred, the type of error, and a description of the error."
   ]
  },
  {
   "cell_type": "code",
   "execution_count": 1,
   "id": "6aa51932",
   "metadata": {},
   "outputs": [],
   "source": [
    "def divide(x, y):\n",
    "    result = x / y\n",
    "    return result"
   ]
  },
  {
   "cell_type": "markdown",
   "id": "83edb36b",
   "metadata": {},
   "source": [
    "#q3]\n",
    "In Python, exceptions can be caught and handled using the try and except statements. The try block contains the code that might raise an exception, and the except block contains the code that will handle the exception if it occurs.\n",
    "\n",
    "Here is an example of how to use the try and except statements to handle a ZeroDivisionError exception:"
   ]
  },
  {
   "cell_type": "code",
   "execution_count": 2,
   "id": "25b05f4a",
   "metadata": {},
   "outputs": [
    {
     "name": "stdout",
     "output_type": "stream",
     "text": [
      "2.0\n",
      "Cannot divide by zero\n",
      "None\n"
     ]
    }
   ],
   "source": [
    "def divide(x, y):\n",
    "    try:\n",
    "        result = x / y\n",
    "    except ZeroDivisionError:\n",
    "        print(\"Cannot divide by zero\")\n",
    "    else:\n",
    "        return result\n",
    "print(divide(10, 5))\n",
    "print(divide(10, 0))"
   ]
  },
  {
   "cell_type": "code",
   "execution_count": 3,
   "id": "830b980d",
   "metadata": {},
   "outputs": [
    {
     "name": "stdout",
     "output_type": "stream",
     "text": [
      "2.0\n",
      "5.0\n"
     ]
    }
   ],
   "source": [
    "#q4]\n",
    "# try and else statements can be used in combination to handle exceptions in Python. The else block is executed if no exceptions are raised in the try block.\n",
    "#example\n",
    "\n",
    "def divide(x, y):\n",
    "    try:\n",
    "        result = x / y\n",
    "    except ZeroDivisionError:\n",
    "        print(\"Cannot divide by zero\")\n",
    "    else:\n",
    "        return result\n",
    "\n",
    "print(divide(10, 5))\n",
    "print(divide(10, 2))"
   ]
  },
  {
   "cell_type": "code",
   "execution_count": 4,
   "id": "d6f346c4",
   "metadata": {},
   "outputs": [
    {
     "name": "stdout",
     "output_type": "stream",
     "text": [
      "Executing finally block\n",
      "2.0\n",
      "Cannot divide by zero\n",
      "Executing finally block\n",
      "None\n"
     ]
    }
   ],
   "source": [
    "#The finally statement in Python is used to specify a block of code that should be executed regardless of whether an exception occurs or not. The code in the finally block is guaranteed to be executed, even if an exception is raised and not caught in the try block.\n",
    "#example\n",
    "def divide(x, y):\n",
    "    try:\n",
    "        result = x / y\n",
    "    except ZeroDivisionError:\n",
    "        print(\"Cannot divide by zero\")\n",
    "        result = None\n",
    "    finally:\n",
    "        print(\"Executing finally block\")\n",
    "    return result\n",
    "\n",
    "print(divide(10, 5))\n",
    "print(divide(10, 0))"
   ]
  },
  {
   "cell_type": "code",
   "execution_count": 5,
   "id": "f6546760",
   "metadata": {},
   "outputs": [
    {
     "name": "stdout",
     "output_type": "stream",
     "text": [
      "2.0\n",
      "Cannot divide by zero\n"
     ]
    }
   ],
   "source": [
    "#The raise statement in Python is used to raise an exception explicitly. It is used to indicate that an error has occurred and to stop the normal execution of the program.\n",
    "#example\n",
    "\n",
    "def divide(x, y):\n",
    "    if y == 0:\n",
    "        raise ZeroDivisionError(\"Cannot divide by zero\")\n",
    "    return x / y\n",
    "\n",
    "try:\n",
    "    print(divide(10, 5))\n",
    "    print(divide(10, 0))\n",
    "except ZeroDivisionError as e:\n",
    "    print(e)"
   ]
  },
  {
   "cell_type": "markdown",
   "id": "46f79c96",
   "metadata": {},
   "source": [
    "#q5]\n",
    "Custom exceptions are user-defined exceptions in Python. They allow you to define specific types of exceptions for your application, so you can handle errors and exceptions in a more organized and meaningful way.\n",
    "\n",
    "For example, consider a scenario where you are writing a library that performs some mathematical calculations. In this library, you may encounter several different types of errors, such as invalid input, overflow, and divide-by-zero errors. You could handle these errors by raising built-in exceptions, such as ValueError or ZeroDivisionError, but it may not provide enough context or information about the error that has occurred."
   ]
  },
  {
   "cell_type": "code",
   "execution_count": 6,
   "id": "f296c1af",
   "metadata": {},
   "outputs": [
    {
     "name": "stdout",
     "output_type": "stream",
     "text": [
      "2.0\n",
      "Input values must be positive\n",
      "None\n",
      "Cannot divide by zero\n",
      "None\n"
     ]
    }
   ],
   "source": [
    "class InvalidInputError(Exception):\n",
    "    pass\n",
    "\n",
    "class OverflowError(Exception):\n",
    "    pass\n",
    "\n",
    "class DivideByZeroError(Exception):\n",
    "    pass\n",
    "\n",
    "def divide(x, y):\n",
    "    if y == 0:\n",
    "        raise DivideByZeroError(\"Cannot divide by zero\")\n",
    "    return x / y\n",
    "\n",
    "def calculate(x, y):\n",
    "    try:\n",
    "        if x < 0 or y < 0:\n",
    "            raise InvalidInputError(\"Input values must be positive\")\n",
    "        result = divide(x, y)\n",
    "    except DivideByZeroError as e:\n",
    "        print(e)\n",
    "    except InvalidInputError as e:\n",
    "        print(e)\n",
    "    else:\n",
    "        return result\n",
    "\n",
    "print(calculate(10, 5))\n",
    "print(calculate(-10, 5))\n",
    "print(calculate(10, 0))"
   ]
  },
  {
   "cell_type": "code",
   "execution_count": 7,
   "id": "4ffeb36f",
   "metadata": {},
   "outputs": [
    {
     "name": "stdout",
     "output_type": "stream",
     "text": [
      "2.0\n",
      "Cannot divide by zero\n"
     ]
    }
   ],
   "source": [
    "#q6]\n",
    "class CustomException(Exception):\n",
    "    pass\n",
    "\n",
    "def divide(x, y):\n",
    "    if y == 0:\n",
    "        raise CustomException(\"Cannot divide by zero\")\n",
    "    return x / y\n",
    "\n",
    "try:\n",
    "    print(divide(10, 5))\n",
    "    print(divide(10, 0))\n",
    "except CustomException as e:\n",
    "    print(e)"
   ]
  }
 ],
 "metadata": {
  "kernelspec": {
   "display_name": "Python 3 (ipykernel)",
   "language": "python",
   "name": "python3"
  },
  "language_info": {
   "codemirror_mode": {
    "name": "ipython",
    "version": 3
   },
   "file_extension": ".py",
   "mimetype": "text/x-python",
   "name": "python",
   "nbconvert_exporter": "python",
   "pygments_lexer": "ipython3",
   "version": "3.9.7"
  }
 },
 "nbformat": 4,
 "nbformat_minor": 5
}
